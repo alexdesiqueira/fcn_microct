{
 "cells": [
  {
   "cell_type": "code",
   "execution_count": 1,
   "metadata": {},
   "outputs": [],
   "source": [
    "from ipywebrtc import webrtc\n",
    "from itkwidgets import view\n",
    "from skimage import io\n",
    "\n",
    "import itk\n",
    "import numpy as np"
   ]
  },
  {
   "cell_type": "code",
   "execution_count": 2,
   "metadata": {},
   "outputs": [],
   "source": [
    "data = io.ImageCollection('/home/alex/data/larson_2019/data_prediction/unet_3d/rec20160323_093947_232p3_cured_1p5cm_cont_4097im_1500ms_17keV_10.h5/predict/*.png')\n",
    "data = data.concatenate()"
   ]
  },
  {
   "cell_type": "code",
   "execution_count": 3,
   "metadata": {},
   "outputs": [],
   "source": [
    "image = itk.GetImageFromArray((data[::4,::4,::4] > 0.5).astype(np.int16))"
   ]
  },
  {
   "cell_type": "code",
   "execution_count": 7,
   "metadata": {},
   "outputs": [
    {
     "data": {
      "application/vnd.jupyter.widget-view+json": {
       "model_id": "c2b1dc32848544b3ab3a94db0c3ef9ee",
       "version_major": 2,
       "version_minor": 0
      },
      "text/plain": [
       "Viewer(annotations=False, geometries=[], gradient_opacity=0.22, point_sets=[], rendered_image=<itkImagePython.…"
      ]
     },
     "metadata": {},
     "output_type": "display_data"
    }
   ],
   "source": [
    "viewer = view(image, annotations=False,\n",
    "              ui_collapsed=True, rotate=False)\n",
    "viewer"
   ]
  },
  {
   "cell_type": "code",
   "execution_count": 10,
   "metadata": {},
   "outputs": [
    {
     "data": {
      "application/vnd.jupyter.widget-view+json": {
       "model_id": "3f47cbb58cc34f3a8ed82f00655ea440",
       "version_major": 2,
       "version_minor": 0
      },
      "text/plain": [
       "ImageRecorder(autosave=True, filename='~/widget_image.png', image=Image(value=b''), stream=Viewer(annotations=…"
      ]
     },
     "metadata": {},
     "output_type": "display_data"
    }
   ],
   "source": [
    "image_recorder = webrtc.ImageRecorder(stream=viewer, filename='~/widget_image.png', autosave=True)\n",
    "image_recorder"
   ]
  },
  {
   "cell_type": "code",
   "execution_count": 11,
   "metadata": {},
   "outputs": [
    {
     "name": "stdout",
     "output_type": "stream",
     "text": [
      "\u001b[0m\u001b[01;34mcode\u001b[0m/  examples.desktop  \u001b[01;34mnetworks\u001b[0m/       \u001b[01;34msources\u001b[0m/\r\n",
      "\u001b[01;34mdata\u001b[0m/  \u001b[01;34mminiconda3\u001b[0m/       \u001b[01;34mshufflenet_v2\u001b[0m/\r\n"
     ]
    }
   ],
   "source": [
    "ls ~"
   ]
  },
  {
   "cell_type": "code",
   "execution_count": null,
   "metadata": {},
   "outputs": [],
   "source": []
  }
 ],
 "metadata": {
  "kernelspec": {
   "display_name": "Python 3",
   "language": "python",
   "name": "python3"
  },
  "language_info": {
   "codemirror_mode": {
    "name": "ipython",
    "version": 3
   },
   "file_extension": ".py",
   "mimetype": "text/x-python",
   "name": "python",
   "nbconvert_exporter": "python",
   "pygments_lexer": "ipython3",
   "version": "3.7.6"
  }
 },
 "nbformat": 4,
 "nbformat_minor": 2
}
