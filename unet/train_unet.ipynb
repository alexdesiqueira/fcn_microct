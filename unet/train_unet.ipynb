{
 "cells": [
  {
   "cell_type": "code",
   "execution_count": 1,
   "metadata": {},
   "outputs": [
    {
     "name": "stderr",
     "output_type": "stream",
     "text": [
      "Using TensorFlow backend.\n"
     ]
    },
    {
     "name": "stdout",
     "output_type": "stream",
     "text": [
      "Num GPUs Available: 8\n",
      "\n",
      "[PhysicalDevice(name='/physical_device:GPU:0', device_type='GPU'), PhysicalDevice(name='/physical_device:GPU:1', device_type='GPU'), PhysicalDevice(name='/physical_device:GPU:2', device_type='GPU'), PhysicalDevice(name='/physical_device:GPU:3', device_type='GPU'), PhysicalDevice(name='/physical_device:GPU:4', device_type='GPU'), PhysicalDevice(name='/physical_device:GPU:5', device_type='GPU'), PhysicalDevice(name='/physical_device:GPU:6', device_type='GPU'), PhysicalDevice(name='/physical_device:GPU:7', device_type='GPU')]\n"
     ]
    }
   ],
   "source": [
    "from itertools import product\n",
    "from tensorflow.keras.callbacks import ModelCheckpoint\n",
    "from model import unet\n",
    "from os.path import join\n",
    "\n",
    "import data\n",
    "import numpy as np\n",
    "import tensorflow as tf\n",
    "\n",
    "print(f'Num GPUs Available: {len(tf.config.experimental.list_physical_devices(\"GPU\"))}\\n')\n",
    "print(tf.config.experimental.list_physical_devices('GPU'))\n",
    "#tf.debugging.set_log_device_placement(True)"
   ]
  },
  {
   "cell_type": "code",
   "execution_count": 2,
   "metadata": {},
   "outputs": [
    {
     "name": "stdout",
     "output_type": "stream",
     "text": [
      "INFO:tensorflow:Using MirroredStrategy with devices ('/job:localhost/replica:0/task:0/device:GPU:0', '/job:localhost/replica:0/task:0/device:GPU:1', '/job:localhost/replica:0/task:0/device:GPU:2', '/job:localhost/replica:0/task:0/device:GPU:3', '/job:localhost/replica:0/task:0/device:GPU:4', '/job:localhost/replica:0/task:0/device:GPU:5')\n"
     ]
    }
   ],
   "source": [
    "base_folder = '/home/alex/data/larson_2019/data'\n",
    "\n",
    "mirrored_strategy = tf.distribute.MirroredStrategy(devices=['/gpu:0', '/gpu:1', '/gpu:2', '/gpu:3',\n",
    "                                                            '/gpu:4', '/gpu:5'])"
   ]
  },
  {
   "cell_type": "code",
   "execution_count": null,
   "metadata": {
    "scrolled": false
   },
   "outputs": [
    {
     "name": "stdout",
     "output_type": "stream",
     "text": [
      "INFO:tensorflow:Reduce to /job:localhost/replica:0/task:0/device:CPU:0 then broadcast to ('/job:localhost/replica:0/task:0/device:CPU:0',).\n",
      "INFO:tensorflow:Reduce to /job:localhost/replica:0/task:0/device:CPU:0 then broadcast to ('/job:localhost/replica:0/task:0/device:CPU:0',).\n",
      "Found 60000 images belonging to 1 classes.\n",
      "Found 60000 images belonging to 1 classes.\n",
      "WARNING:tensorflow:sample_weight modes were coerced from\n",
      "  ...\n",
      "    to  \n",
      "  ['...']\n",
      "Found 25000 images belonging to 1 classes.\n",
      "Found 25000 images belonging to 1 classes.\n",
      "WARNING:tensorflow:sample_weight modes were coerced from\n",
      "  ...\n",
      "    to  \n",
      "  ['...']\n",
      "Train for 468 steps, validate for 195 steps\n",
      "Epoch 1/100\n",
      "INFO:tensorflow:batch_all_reduce: 48 all-reduces with algorithm = nccl, num_packs = 1, agg_small_grads_max_bytes = 0 and agg_small_grads_max_group = 10\n",
      "INFO:tensorflow:Reduce to /job:localhost/replica:0/task:0/device:CPU:0 then broadcast to ('/job:localhost/replica:0/task:0/device:CPU:0',).\n",
      "INFO:tensorflow:Reduce to /job:localhost/replica:0/task:0/device:CPU:0 then broadcast to ('/job:localhost/replica:0/task:0/device:CPU:0',).\n",
      "INFO:tensorflow:Reduce to /job:localhost/replica:0/task:0/device:CPU:0 then broadcast to ('/job:localhost/replica:0/task:0/device:CPU:0',).\n",
      "INFO:tensorflow:Reduce to /job:localhost/replica:0/task:0/device:CPU:0 then broadcast to ('/job:localhost/replica:0/task:0/device:CPU:0',).\n",
      "INFO:tensorflow:batch_all_reduce: 48 all-reduces with algorithm = nccl, num_packs = 1, agg_small_grads_max_bytes = 0 and agg_small_grads_max_group = 10\n",
      "INFO:tensorflow:Reduce to /job:localhost/replica:0/task:0/device:CPU:0 then broadcast to ('/job:localhost/replica:0/task:0/device:CPU:0',).\n",
      "INFO:tensorflow:Reduce to /job:localhost/replica:0/task:0/device:CPU:0 then broadcast to ('/job:localhost/replica:0/task:0/device:CPU:0',).\n",
      "INFO:tensorflow:Reduce to /job:localhost/replica:0/task:0/device:CPU:0 then broadcast to ('/job:localhost/replica:0/task:0/device:CPU:0',).\n",
      "INFO:tensorflow:Reduce to /job:localhost/replica:0/task:0/device:CPU:0 then broadcast to ('/job:localhost/replica:0/task:0/device:CPU:0',).\n"
     ]
    }
   ],
   "source": [
    "with mirrored_strategy.scope():  # processing in 4 GPUs\n",
    "    # Hyperparameters:\n",
    "    batch_size = 128  # original: 23, (256x256). Can put a larger size because the system shares it\n",
    "    target_size = (256, 256)\n",
    "    steps_per_epoch = int(60000 // batch_size)  # original: 600 x 10^2 = 60000\n",
    "    validation_steps = int(25000 // batch_size)  # original: 250 x 10^2 = 25000\n",
    "\n",
    "    data_gen_args = dict(rotation_range=0.2,\n",
    "                         width_shift_range=0.05,\n",
    "                         height_shift_range=0.05,\n",
    "                         shear_range=0.05,\n",
    "                         zoom_range=0.05,\n",
    "                         horizontal_flip=True,\n",
    "                         fill_mode='nearest')\n",
    "\n",
    "    train_gene = data.train_generator(batch_size=batch_size,\n",
    "                                      train_path=join(base_folder,\n",
    "                                                      'train'),\n",
    "                                      image_folder='image',\n",
    "                                      label_folder='label',\n",
    "                                      aug_dict=data_gen_args,\n",
    "                                      target_size=target_size,\n",
    "                                      save_to_dir=None)\n",
    "\n",
    "    valid_gene = data.train_generator(batch_size=batch_size,\n",
    "                                      train_path=join(base_folder,\n",
    "                                                      'validate'),\n",
    "                                      image_folder='image',\n",
    "                                      label_folder='label',\n",
    "                                      aug_dict=data_gen_args,\n",
    "                                      target_size=target_size,\n",
    "                                      save_to_dir=None)\n",
    "    model = unet(input_size=(256, 256, 1))\n",
    "\n",
    "    model_checkpoint = ModelCheckpoint('unet_larson.hdf5',\n",
    "                                       monitor='val_loss',\n",
    "                                       verbose=1,\n",
    "                                       save_best_only=True)\n",
    "\n",
    "    history = model.fit(train_gene,\n",
    "                        steps_per_epoch=steps_per_epoch,\n",
    "                        epochs=100,\n",
    "                        validation_data=valid_gene,\n",
    "                        validation_steps=validation_steps,\n",
    "                        verbose=1,\n",
    "                        callbacks=[model_checkpoint])"
   ]
  },
  {
   "cell_type": "code",
   "execution_count": null,
   "metadata": {},
   "outputs": [],
   "source": [
    "import matplotlib.pyplot as plt\n",
    "\n",
    "plt.plot(history.history['loss'])\n",
    "plt.plot(history.history['val_loss'])\n",
    "plt.legend(['loss', 'val_loss'])\n",
    "plt.show()"
   ]
  },
  {
   "cell_type": "code",
   "execution_count": null,
   "metadata": {},
   "outputs": [],
   "source": []
  }
 ],
 "metadata": {
  "kernelspec": {
   "display_name": "Python 3",
   "language": "python",
   "name": "python3"
  },
  "language_info": {
   "codemirror_mode": {
    "name": "ipython",
    "version": 3
   },
   "file_extension": ".py",
   "mimetype": "text/x-python",
   "name": "python",
   "nbconvert_exporter": "python",
   "pygments_lexer": "ipython3",
   "version": "3.7.4"
  }
 },
 "nbformat": 4,
 "nbformat_minor": 2
}
