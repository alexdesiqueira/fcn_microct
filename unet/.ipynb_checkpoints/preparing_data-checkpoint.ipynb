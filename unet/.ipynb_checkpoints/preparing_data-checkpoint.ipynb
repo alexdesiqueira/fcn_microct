{
 "cells": [
  {
   "cell_type": "code",
   "execution_count": null,
   "metadata": {},
   "outputs": [],
   "source": [
    "import matplotlib.pyplot as plt\n",
    "import numpy as np\n",
    "import csv\n",
    "import statistics as stats\n",
    "import os\n",
    "import warnings\n",
    "\n",
    "from scipy.ndimage.measurements import center_of_mass\n",
    "from scipy.ndimage import binary_fill_holes\n",
    "from skimage import draw, filters, io, measure, morphology, restoration, util\n",
    "from skimage.color import label2rgb\n",
    "from skimage.restoration import denoise_nl_means\n",
    "from skimage.segmentation import mark_boundaries\n",
    "\n",
    "%matplotlib inline"
   ]
  },
  {
   "cell_type": "code",
   "execution_count": null,
   "metadata": {},
   "outputs": [],
   "source": [
    "from itertools import product\n",
    "\n",
    "def save_cropped_image(image, index, side=10, folder='temp'):\n",
    "    \"\"\"Crops image and saves the cropped chunks in disk.\n",
    "    \n",
    "    Parameters\n",
    "    ----------\n",
    "    image : ndarray\n",
    "        Input image.\n",
    "    index : int\n",
    "        Reference number to saved files.\n",
    "    side : int, optional (default : 10)\n",
    "        How many images will be cut on each side.\n",
    "    folder : str, optional (default : folder)\n",
    "        The folder to save the cropped files.\n",
    "\n",
    "    Returns\n",
    "    -------\n",
    "        None\n",
    "    \"\"\"\n",
    "    old_rows, old_cols = image.shape\n",
    "    rows, cols = old_rows // side, old_cols // side\n",
    "\n",
    "    for idx, (i, j) in enumerate(product(range(side), repeat=2)):\n",
    "        aux_img = image[i*rows:(i+1)*rows, j*cols:(j+1)*cols]\n",
    "        fname = '%03d_img_crop-%03d.png' % (index, idx)\n",
    "        io.imsave(os.path.join(folder, fname), aux_img)\n",
    "    return None"
   ]
  },
  {
   "cell_type": "code",
   "execution_count": null,
   "metadata": {},
   "outputs": [],
   "source": [
    "folder_nocrop = '/home/alex/data/larson_2019/data_NOCROP/'\n",
    "folder_save = '/home/alex/data/larson_2019/data/'\n",
    "\n",
    "train_image_nocrop = os.path.join(folder_nocrop, 'train/image/')\n",
    "train_label_nocrop = os.path.join(folder_nocrop, 'train/label/')\n",
    "\n",
    "val_image_nocrop = os.path.join(folder_nocrop, 'validate/image/')\n",
    "val_label_nocrop = os.path.join(folder_nocrop, 'validate/label/')\n",
    "\n",
    "test_image_nocrop = os.path.join(folder_nocrop, 'test/image/')\n",
    "test_label_nocrop = os.path.join(folder_nocrop, 'test/label/')\n",
    "\n",
    "train_image_save = folder_save + 'train/image/'\n",
    "train_label_save = folder_save + 'train/label/'\n",
    "\n",
    "val_image_save = folder_save + 'validate/image/'\n",
    "val_label_save = folder_save + 'validate/label/'\n",
    "\n",
    "test_image_save = folder_save + 'test/image/'\n",
    "test_label_save = folder_save + 'test/label/'\n",
    "\n",
    "for folder in [train_image_save, train_label_save,\n",
    "               val_image_save, val_label_save,\n",
    "               test_image_save, test_label_save]:\n",
    "    if not os.path.isdir(folder):\n",
    "        os.makedirs(folder)"
   ]
  },
  {
   "cell_type": "code",
   "execution_count": null,
   "metadata": {},
   "outputs": [],
   "source": [
    "data_image = io.ImageCollection(load_pattern=os.path.join(train_image_nocrop, '*.png'),\n",
    "                                plugin=None)\n",
    "data_label = io.ImageCollection(load_pattern=os.path.join(train_label_nocrop, '*.png'),\n",
    "                                plugin=None)\n",
    "\n",
    "print(f'* Images: {len(data_image)}; labels: {len(data_label)}')\n",
    "\n",
    "for idx, image in enumerate(data_image):\n",
    "    save_cropped_image(image, index=idx, folder=train_image_save)\n",
    "\n",
    "for idx, label in enumerate(data_label):\n",
    "    save_cropped_image(label, index=idx, folder=train_label_save)"
   ]
  },
  {
   "cell_type": "code",
   "execution_count": null,
   "metadata": {},
   "outputs": [],
   "source": [
    "data_image = io.ImageCollection(load_pattern=os.path.join(val_image_nocrop, '*.png'),\n",
    "                                plugin=None)\n",
    "data_label = io.ImageCollection(load_pattern=os.path.join(val_label_nocrop, '*.png'),\n",
    "                                plugin=None)\n",
    "\n",
    "print(f'* Images: {len(data_image)}; labels: {len(data_label)}')\n",
    "\n",
    "for idx, image in enumerate(data_image):\n",
    "    save_cropped_image(image, index=idx, folder=val_image_save)\n",
    "    \n",
    "for idx, label in enumerate(data_label):\n",
    "    save_cropped_image(label, index=idx, folder=val_label_save)"
   ]
  },
  {
   "cell_type": "code",
   "execution_count": null,
   "metadata": {},
   "outputs": [],
   "source": [
    "data_image = io.ImageCollection(load_pattern=os.path.join(test_image_nocrop, '*.png'),\n",
    "                                plugin=None)\n",
    "data_label = io.ImageCollection(load_pattern=os.path.join(test_label_nocrop, '*.png'),\n",
    "                                plugin=None)\n",
    "\n",
    "print(f'* Images: {len(data_image)}; labels: {len(data_label)}')\n",
    "\n",
    "for idx, image in enumerate(data_image):\n",
    "    save_cropped_image(image, index=idx, folder=test_image_save)\n",
    "    #save_cropped_image(label, index=idx, folder=save_label)"
   ]
  },
  {
   "cell_type": "code",
   "execution_count": null,
   "metadata": {},
   "outputs": [],
   "source": []
  },
  {
   "cell_type": "code",
   "execution_count": null,
   "metadata": {},
   "outputs": [],
   "source": []
  },
  {
   "cell_type": "code",
   "execution_count": null,
   "metadata": {},
   "outputs": [],
   "source": []
  }
 ],
 "metadata": {
  "kernelspec": {
   "display_name": "Python 3",
   "language": "python",
   "name": "python3"
  },
  "language_info": {
   "codemirror_mode": {
    "name": "ipython",
    "version": 3
   },
   "file_extension": ".py",
   "mimetype": "text/x-python",
   "name": "python",
   "nbconvert_exporter": "python",
   "pygments_lexer": "ipython3",
   "version": "3.7.4"
  }
 },
 "nbformat": 4,
 "nbformat_minor": 2
}
